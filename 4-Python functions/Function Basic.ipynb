{
 "cells": [
  {
   "cell_type": "markdown",
   "id": "89532775",
   "metadata": {},
   "source": [
    "### addition function"
   ]
  },
  {
   "cell_type": "code",
   "execution_count": 1,
   "id": "70757555",
   "metadata": {},
   "outputs": [],
   "source": [
    "# function defination\n",
    "def addition(a, b):\n",
    "    c = a + b\n",
    "    print(c)"
   ]
  },
  {
   "cell_type": "code",
   "execution_count": 2,
   "id": "c194e56c",
   "metadata": {},
   "outputs": [
    {
     "name": "stdout",
     "output_type": "stream",
     "text": [
      "5\n"
     ]
    }
   ],
   "source": [
    "addition(2, 3)"
   ]
  },
  {
   "cell_type": "code",
   "execution_count": 3,
   "id": "e2e28363",
   "metadata": {},
   "outputs": [
    {
     "name": "stdout",
     "output_type": "stream",
     "text": [
      "14\n"
     ]
    }
   ],
   "source": [
    "addition(6, 8)"
   ]
  },
  {
   "cell_type": "markdown",
   "id": "753badc6",
   "metadata": {},
   "source": [
    "### hello"
   ]
  },
  {
   "cell_type": "code",
   "execution_count": 4,
   "id": "7f79df0a",
   "metadata": {},
   "outputs": [],
   "source": [
    "# simple function\n",
    "def hello():\n",
    "    print('Hello world!')"
   ]
  },
  {
   "cell_type": "code",
   "execution_count": 5,
   "id": "ed24b31b",
   "metadata": {},
   "outputs": [
    {
     "name": "stdout",
     "output_type": "stream",
     "text": [
      "Hello world!\n"
     ]
    }
   ],
   "source": [
    "hello()"
   ]
  },
  {
   "cell_type": "code",
   "execution_count": 6,
   "id": "ff23b688",
   "metadata": {},
   "outputs": [
    {
     "name": "stdout",
     "output_type": "stream",
     "text": [
      "Hello world!\n",
      "Hello world!\n",
      "Hello world!\n",
      "Hello world!\n",
      "Hello world!\n",
      "Hello world!\n",
      "Hello world!\n",
      "Hello world!\n",
      "Hello world!\n",
      "Hello world!\n"
     ]
    }
   ],
   "source": [
    "for i in range(10):\n",
    "    hello()"
   ]
  },
  {
   "cell_type": "code",
   "execution_count": 7,
   "id": "5a446397",
   "metadata": {},
   "outputs": [
    {
     "data": {
      "text/plain": [
       "5"
      ]
     },
     "execution_count": 7,
     "metadata": {},
     "output_type": "execute_result"
    }
   ],
   "source": [
    "len('sanju')"
   ]
  },
  {
   "cell_type": "markdown",
   "id": "942a29c8",
   "metadata": {},
   "source": [
    "### Len Function"
   ]
  },
  {
   "cell_type": "code",
   "execution_count": 15,
   "id": "b98e3f8f",
   "metadata": {},
   "outputs": [],
   "source": [
    "#len function\n",
    "def lenngth(variable):\n",
    "    counter = 0\n",
    "    for i in variable:\n",
    "        counter += 1\n",
    "    print(counter, 'hi')"
   ]
  },
  {
   "cell_type": "code",
   "execution_count": 16,
   "id": "40710796",
   "metadata": {},
   "outputs": [
    {
     "name": "stdout",
     "output_type": "stream",
     "text": [
      "5 hi\n"
     ]
    }
   ],
   "source": [
    "len('sanju')"
   ]
  },
  {
   "cell_type": "code",
   "execution_count": 10,
   "id": "a0e5b039",
   "metadata": {},
   "outputs": [
    {
     "name": "stdout",
     "output_type": "stream",
     "text": [
      "15\n"
     ]
    }
   ],
   "source": [
    "length('sorab and laxmi')"
   ]
  },
  {
   "cell_type": "code",
   "execution_count": 17,
   "id": "81cf4303",
   "metadata": {},
   "outputs": [
    {
     "name": "stdout",
     "output_type": "stream",
     "text": [
      "6\n"
     ]
    }
   ],
   "source": [
    "length([1,5,6,9,2,3])"
   ]
  },
  {
   "cell_type": "code",
   "execution_count": 18,
   "id": "057714f8",
   "metadata": {},
   "outputs": [],
   "source": [
    "def length2(variable):\n",
    "    counter = 0\n",
    "    for i in variable:\n",
    "        counter += 1\n",
    "    return counter"
   ]
  },
  {
   "cell_type": "code",
   "execution_count": 19,
   "id": "20e30ed0",
   "metadata": {},
   "outputs": [],
   "source": [
    "result = length2('Tejaswini')"
   ]
  },
  {
   "cell_type": "code",
   "execution_count": 20,
   "id": "c582e6ac",
   "metadata": {
    "scrolled": true
   },
   "outputs": [
    {
     "data": {
      "text/plain": [
       "9"
      ]
     },
     "execution_count": 20,
     "metadata": {},
     "output_type": "execute_result"
    }
   ],
   "source": [
    "result"
   ]
  },
  {
   "cell_type": "markdown",
   "id": "3f4b1cc2",
   "metadata": {},
   "source": [
    "### optional arguments"
   ]
  },
  {
   "cell_type": "code",
   "execution_count": null,
   "id": "3f5619ec",
   "metadata": {},
   "outputs": [],
   "source": [
    "def root(num, power=2):\n",
    "    return num**(1/power)"
   ]
  },
  {
   "cell_type": "code",
   "execution_count": null,
   "id": "f155436e",
   "metadata": {},
   "outputs": [],
   "source": [
    "root(27, 3)"
   ]
  },
  {
   "cell_type": "code",
   "execution_count": null,
   "id": "6ad86214",
   "metadata": {},
   "outputs": [],
   "source": [
    "root(9)"
   ]
  },
  {
   "cell_type": "code",
   "execution_count": null,
   "id": "3c6fc293",
   "metadata": {},
   "outputs": [],
   "source": [
    "def Introduction(name='XYZ'):\n",
    "    statement = ''' Hello, my name is {}\n",
    "    I am from Pune, India.\n",
    "    \n",
    "    Where are you from'''.format(name)\n",
    "    print(statement)"
   ]
  },
  {
   "cell_type": "code",
   "execution_count": null,
   "id": "aba98fdd",
   "metadata": {},
   "outputs": [],
   "source": [
    "Introduction('sanju')"
   ]
  },
  {
   "cell_type": "code",
   "execution_count": null,
   "id": "ce193645",
   "metadata": {},
   "outputs": [],
   "source": [
    "Introduction()"
   ]
  },
  {
   "cell_type": "code",
   "execution_count": null,
   "id": "f666acf3",
   "metadata": {},
   "outputs": [],
   "source": [
    "def fun_addition(A, D, B = 0, C = 1):\n",
    "    return A + B + C + D"
   ]
  },
  {
   "cell_type": "code",
   "execution_count": null,
   "id": "86d230e5",
   "metadata": {},
   "outputs": [],
   "source": [
    "fun_addition(1,2)"
   ]
  },
  {
   "cell_type": "code",
   "execution_count": null,
   "id": "e564335a",
   "metadata": {},
   "outputs": [],
   "source": [
    "def division(A, B):\n",
    "    try:\n",
    "        return A/B\n",
    "    except ZeroDivisionError:\n",
    "        print('can not be divided by zero')"
   ]
  },
  {
   "cell_type": "code",
   "execution_count": null,
   "id": "677212a7",
   "metadata": {},
   "outputs": [],
   "source": [
    "division(B =0,A = 2)"
   ]
  },
  {
   "cell_type": "code",
   "execution_count": null,
   "id": "98ca10d4",
   "metadata": {},
   "outputs": [],
   "source": []
  }
 ],
 "metadata": {
  "kernelspec": {
   "display_name": "Python 3 (ipykernel)",
   "language": "python",
   "name": "python3"
  },
  "language_info": {
   "codemirror_mode": {
    "name": "ipython",
    "version": 3
   },
   "file_extension": ".py",
   "mimetype": "text/x-python",
   "name": "python",
   "nbconvert_exporter": "python",
   "pygments_lexer": "ipython3",
   "version": "3.10.4"
  }
 },
 "nbformat": 4,
 "nbformat_minor": 5
}
