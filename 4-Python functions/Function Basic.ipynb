{
 "cells": [
  {
   "cell_type": "markdown",
   "id": "89532775",
   "metadata": {},
   "source": [
    "### addition and square function"
   ]
  },
  {
   "cell_type": "code",
   "execution_count": 1,
   "id": "70757555",
   "metadata": {},
   "outputs": [],
   "source": [
    "# function defination\n",
    "def addition_squareing(a, b):\n",
    "    c = a + b\n",
    "    d = c**2\n",
    "    print(d)"
   ]
  },
  {
   "cell_type": "code",
   "execution_count": 26,
   "id": "c194e56c",
   "metadata": {},
   "outputs": [
    {
     "name": "stdout",
     "output_type": "stream",
     "text": [
      "25\n"
     ]
    }
   ],
   "source": [
    "addition_squareing(2, 3)"
   ]
  },
  {
   "cell_type": "code",
   "execution_count": 6,
   "id": "f9eded6b",
   "metadata": {},
   "outputs": [],
   "source": [
    "a, b = 2, 5"
   ]
  },
  {
   "cell_type": "code",
   "execution_count": 7,
   "id": "c8dd8512",
   "metadata": {},
   "outputs": [
    {
     "name": "stdout",
     "output_type": "stream",
     "text": [
      "49\n"
     ]
    }
   ],
   "source": [
    "addition_squareing(a, b)"
   ]
  },
  {
   "cell_type": "code",
   "execution_count": 9,
   "id": "e2e28363",
   "metadata": {},
   "outputs": [
    {
     "name": "stdout",
     "output_type": "stream",
     "text": [
      "196\n"
     ]
    }
   ],
   "source": [
    "addition_squareing(6, 8)"
   ]
  },
  {
   "cell_type": "markdown",
   "id": "753badc6",
   "metadata": {},
   "source": [
    "### hello"
   ]
  },
  {
   "cell_type": "code",
   "execution_count": 11,
   "id": "7f79df0a",
   "metadata": {},
   "outputs": [],
   "source": [
    "# simple function\n",
    "def hello():\n",
    "    print('Hello world!')"
   ]
  },
  {
   "cell_type": "code",
   "execution_count": 12,
   "id": "ed24b31b",
   "metadata": {},
   "outputs": [
    {
     "name": "stdout",
     "output_type": "stream",
     "text": [
      "Hello world!\n"
     ]
    }
   ],
   "source": [
    "hello()"
   ]
  },
  {
   "cell_type": "code",
   "execution_count": 13,
   "id": "ff23b688",
   "metadata": {},
   "outputs": [
    {
     "name": "stdout",
     "output_type": "stream",
     "text": [
      "Hello world!\n",
      "Hello world!\n",
      "Hello world!\n",
      "Hello world!\n",
      "Hello world!\n",
      "Hello world!\n",
      "Hello world!\n",
      "Hello world!\n",
      "Hello world!\n",
      "Hello world!\n"
     ]
    }
   ],
   "source": [
    "for i in range(10):\n",
    "    hello()"
   ]
  },
  {
   "cell_type": "code",
   "execution_count": 14,
   "id": "5a446397",
   "metadata": {},
   "outputs": [
    {
     "data": {
      "text/plain": [
       "5"
      ]
     },
     "execution_count": 14,
     "metadata": {},
     "output_type": "execute_result"
    }
   ],
   "source": [
    "len('sanju')"
   ]
  },
  {
   "cell_type": "markdown",
   "id": "942a29c8",
   "metadata": {},
   "source": [
    "### Len Function"
   ]
  },
  {
   "cell_type": "code",
   "execution_count": 15,
   "id": "b98e3f8f",
   "metadata": {},
   "outputs": [],
   "source": [
    "#len function\n",
    "def length(variable):\n",
    "    counter = 0\n",
    "    for i in variable:\n",
    "        counter += 1\n",
    "    print(counter)"
   ]
  },
  {
   "cell_type": "code",
   "execution_count": 20,
   "id": "40710796",
   "metadata": {},
   "outputs": [],
   "source": [
    "len('sanju')"
   ]
  },
  {
   "cell_type": "code",
   "execution_count": 17,
   "id": "d88a682b",
   "metadata": {},
   "outputs": [
    {
     "name": "stdout",
     "output_type": "stream",
     "text": [
      "5\n"
     ]
    }
   ],
   "source": [
    "length('sanju')"
   ]
  },
  {
   "cell_type": "code",
   "execution_count": 18,
   "id": "a0e5b039",
   "metadata": {},
   "outputs": [
    {
     "name": "stdout",
     "output_type": "stream",
     "text": [
      "16\n"
     ]
    }
   ],
   "source": [
    "length('snehal and omkar')"
   ]
  },
  {
   "cell_type": "code",
   "execution_count": 19,
   "id": "81cf4303",
   "metadata": {},
   "outputs": [
    {
     "name": "stdout",
     "output_type": "stream",
     "text": [
      "6\n"
     ]
    }
   ],
   "source": [
    "length([1,5,6,9,2,3])"
   ]
  },
  {
   "cell_type": "markdown",
   "id": "9d51de97",
   "metadata": {},
   "source": [
    "### function with Return"
   ]
  },
  {
   "cell_type": "code",
   "execution_count": 22,
   "id": "057714f8",
   "metadata": {},
   "outputs": [],
   "source": [
    "def length2(variable):\n",
    "    counter = 0\n",
    "    for i in variable:\n",
    "        counter += 1\n",
    "    return counter"
   ]
  },
  {
   "cell_type": "code",
   "execution_count": 23,
   "id": "20e30ed0",
   "metadata": {},
   "outputs": [],
   "source": [
    "result = length2('Tejaswini')"
   ]
  },
  {
   "cell_type": "code",
   "execution_count": 24,
   "id": "c582e6ac",
   "metadata": {
    "scrolled": true
   },
   "outputs": [
    {
     "data": {
      "text/plain": [
       "9"
      ]
     },
     "execution_count": 24,
     "metadata": {},
     "output_type": "execute_result"
    }
   ],
   "source": [
    "result"
   ]
  },
  {
   "cell_type": "markdown",
   "id": "3f4b1cc2",
   "metadata": {},
   "source": [
    "### optional arguments"
   ]
  },
  {
   "cell_type": "code",
   "execution_count": 27,
   "id": "3f5619ec",
   "metadata": {},
   "outputs": [],
   "source": [
    "def root(num, power=2):\n",
    "    return num**(1/power)"
   ]
  },
  {
   "cell_type": "code",
   "execution_count": 35,
   "id": "f155436e",
   "metadata": {},
   "outputs": [
    {
     "data": {
      "text/plain": [
       "16.0"
      ]
     },
     "execution_count": 35,
     "metadata": {},
     "output_type": "execute_result"
    }
   ],
   "source": [
    "root(256)"
   ]
  },
  {
   "cell_type": "code",
   "execution_count": 36,
   "id": "6ad86214",
   "metadata": {},
   "outputs": [
    {
     "data": {
      "text/plain": [
       "3.0"
      ]
     },
     "execution_count": 36,
     "metadata": {},
     "output_type": "execute_result"
    }
   ],
   "source": [
    "root(9)"
   ]
  },
  {
   "cell_type": "code",
   "execution_count": 37,
   "id": "3c6fc293",
   "metadata": {},
   "outputs": [],
   "source": [
    "def Introduction(name='XYZ'):\n",
    "    statement = ''' Hello, my name is {}\n",
    "    I am from Pune, India.\n",
    "    \n",
    "    Where are you from?'''.format(name)\n",
    "    print(statement)"
   ]
  },
  {
   "cell_type": "code",
   "execution_count": 38,
   "id": "aba98fdd",
   "metadata": {},
   "outputs": [
    {
     "name": "stdout",
     "output_type": "stream",
     "text": [
      " Hello, my name is sanju\n",
      "    I am from Pune, India.\n",
      "    \n",
      "    Where are you from?\n"
     ]
    }
   ],
   "source": [
    "Introduction('sanju')"
   ]
  },
  {
   "cell_type": "code",
   "execution_count": 39,
   "id": "ce193645",
   "metadata": {},
   "outputs": [
    {
     "name": "stdout",
     "output_type": "stream",
     "text": [
      " Hello, my name is XYZ\n",
      "    I am from Pune, India.\n",
      "    \n",
      "    Where are you from?\n"
     ]
    }
   ],
   "source": [
    "Introduction()"
   ]
  },
  {
   "cell_type": "code",
   "execution_count": 44,
   "id": "f666acf3",
   "metadata": {},
   "outputs": [],
   "source": [
    "def fun(A, D, B = 3, C = 1):\n",
    "    return A / B + C / D"
   ]
  },
  {
   "cell_type": "code",
   "execution_count": 42,
   "id": "86d230e5",
   "metadata": {},
   "outputs": [
    {
     "data": {
      "text/plain": [
       "1.3333333333333333"
      ]
     },
     "execution_count": 42,
     "metadata": {},
     "output_type": "execute_result"
    }
   ],
   "source": [
    "fun(1,1)"
   ]
  },
  {
   "cell_type": "markdown",
   "id": "7b1b3c45",
   "metadata": {},
   "source": [
    "## named argument"
   ]
  },
  {
   "cell_type": "code",
   "execution_count": 45,
   "id": "ad1973ef",
   "metadata": {
    "scrolled": true
   },
   "outputs": [
    {
     "data": {
      "text/plain": [
       "2.1666666666666665"
      ]
     },
     "execution_count": 45,
     "metadata": {},
     "output_type": "execute_result"
    }
   ],
   "source": [
    "fun(2,D=6,B=1)"
   ]
  },
  {
   "cell_type": "code",
   "execution_count": 46,
   "id": "65702f37",
   "metadata": {
    "scrolled": true
   },
   "outputs": [
    {
     "data": {
      "text/plain": [
       "6.5"
      ]
     },
     "execution_count": 46,
     "metadata": {},
     "output_type": "execute_result"
    }
   ],
   "source": [
    "fun(D=2,A=6,B=1)"
   ]
  },
  {
   "cell_type": "markdown",
   "id": "1f879315",
   "metadata": {},
   "source": [
    "## Local variables and scope"
   ]
  },
  {
   "cell_type": "code",
   "execution_count": 47,
   "id": "de9dc393",
   "metadata": {},
   "outputs": [],
   "source": [
    "def fun_addition2(A, D, B = 0, C = 1, E=2):\n",
    "    print(A)\n",
    "    print(B)\n",
    "    print(C)\n",
    "    print(D)\n",
    "    return A + B + C + D"
   ]
  },
  {
   "cell_type": "code",
   "execution_count": 48,
   "id": "4cfc4ae3",
   "metadata": {},
   "outputs": [],
   "source": [
    "A = 15"
   ]
  },
  {
   "cell_type": "code",
   "execution_count": 49,
   "id": "6bc97795",
   "metadata": {},
   "outputs": [
    {
     "data": {
      "text/plain": [
       "15"
      ]
     },
     "execution_count": 49,
     "metadata": {},
     "output_type": "execute_result"
    }
   ],
   "source": [
    "A"
   ]
  },
  {
   "cell_type": "code",
   "execution_count": 50,
   "id": "e059cead",
   "metadata": {},
   "outputs": [],
   "source": [
    "C = 15"
   ]
  },
  {
   "cell_type": "code",
   "execution_count": 51,
   "id": "bdcd6d01",
   "metadata": {},
   "outputs": [
    {
     "name": "stdout",
     "output_type": "stream",
     "text": [
      "12\n",
      "0\n",
      "1\n",
      "2\n"
     ]
    },
    {
     "data": {
      "text/plain": [
       "15"
      ]
     },
     "execution_count": 51,
     "metadata": {},
     "output_type": "execute_result"
    }
   ],
   "source": [
    "fun_addition2(12,2)"
   ]
  },
  {
   "cell_type": "code",
   "execution_count": 52,
   "id": "fe158044",
   "metadata": {},
   "outputs": [
    {
     "data": {
      "text/plain": [
       "15"
      ]
     },
     "execution_count": 52,
     "metadata": {},
     "output_type": "execute_result"
    }
   ],
   "source": [
    "A"
   ]
  },
  {
   "cell_type": "markdown",
   "id": "e2061c60",
   "metadata": {},
   "source": [
    "## Try n except"
   ]
  },
  {
   "cell_type": "code",
   "execution_count": 57,
   "id": "0192dd33",
   "metadata": {},
   "outputs": [],
   "source": [
    "def division(A, B):\n",
    "    try:\n",
    "        return A/B\n",
    "    except ZeroDivisionError:\n",
    "        print('can not be divided by zero')\n",
    "        return A+B\n",
    "#     return A/B"
   ]
  },
  {
   "cell_type": "code",
   "execution_count": 58,
   "id": "bd13cab8",
   "metadata": {},
   "outputs": [
    {
     "name": "stdout",
     "output_type": "stream",
     "text": [
      "can not be divided by zero\n"
     ]
    },
    {
     "data": {
      "text/plain": [
       "1"
      ]
     },
     "execution_count": 58,
     "metadata": {},
     "output_type": "execute_result"
    }
   ],
   "source": [
    "division(1,0)"
   ]
  },
  {
   "cell_type": "code",
   "execution_count": 59,
   "id": "5e61ab90",
   "metadata": {},
   "outputs": [],
   "source": [
    "def division2(A, B):\n",
    "    try:\n",
    "        return A/B\n",
    "    except:\n",
    "        print('can not be divided by zero')\n",
    "        return A+B"
   ]
  },
  {
   "cell_type": "code",
   "execution_count": 60,
   "id": "c9a1685d",
   "metadata": {},
   "outputs": [
    {
     "name": "stdout",
     "output_type": "stream",
     "text": [
      "can not be divided by zero\n"
     ]
    },
    {
     "data": {
      "text/plain": [
       "1"
      ]
     },
     "execution_count": 60,
     "metadata": {},
     "output_type": "execute_result"
    }
   ],
   "source": [
    "division2(1,0)"
   ]
  },
  {
   "cell_type": "code",
   "execution_count": null,
   "id": "01e6b105",
   "metadata": {},
   "outputs": [],
   "source": []
  }
 ],
 "metadata": {
  "kernelspec": {
   "display_name": "Python 3 (ipykernel)",
   "language": "python",
   "name": "python3"
  },
  "language_info": {
   "codemirror_mode": {
    "name": "ipython",
    "version": 3
   },
   "file_extension": ".py",
   "mimetype": "text/x-python",
   "name": "python",
   "nbconvert_exporter": "python",
   "pygments_lexer": "ipython3",
   "version": "3.10.4"
  }
 },
 "nbformat": 4,
 "nbformat_minor": 5
}
