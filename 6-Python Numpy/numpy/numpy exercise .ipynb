{
 "cells": [
  {
   "cell_type": "markdown",
   "id": "fa5615bf",
   "metadata": {},
   "source": [
    "# 1. Import the numpy package under the name"
   ]
  },
  {
   "cell_type": "code",
   "execution_count": 27,
   "id": "fe9fe7c9",
   "metadata": {},
   "outputs": [],
   "source": [
    "import numpy as np"
   ]
  },
  {
   "cell_type": "markdown",
   "id": "6824a4db",
   "metadata": {},
   "source": [
    "# 2. Print the numpy version and the configuration "
   ]
  },
  {
   "cell_type": "code",
   "execution_count": 33,
   "id": "99f06a68",
   "metadata": {},
   "outputs": [
    {
     "name": "stdout",
     "output_type": "stream",
     "text": [
      "NumPy Version :  1.22.3\n",
      "openblas64__info:\n",
      "    library_dirs = ['D:\\\\a\\\\1\\\\s\\\\numpy\\\\build\\\\openblas64__info']\n",
      "    libraries = ['openblas64__info']\n",
      "    language = f77\n",
      "    define_macros = [('HAVE_CBLAS', None), ('BLAS_SYMBOL_SUFFIX', '64_'), ('HAVE_BLAS_ILP64', None)]\n",
      "blas_ilp64_opt_info:\n",
      "    library_dirs = ['D:\\\\a\\\\1\\\\s\\\\numpy\\\\build\\\\openblas64__info']\n",
      "    libraries = ['openblas64__info']\n",
      "    language = f77\n",
      "    define_macros = [('HAVE_CBLAS', None), ('BLAS_SYMBOL_SUFFIX', '64_'), ('HAVE_BLAS_ILP64', None)]\n",
      "openblas64__lapack_info:\n",
      "    library_dirs = ['D:\\\\a\\\\1\\\\s\\\\numpy\\\\build\\\\openblas64__lapack_info']\n",
      "    libraries = ['openblas64__lapack_info']\n",
      "    language = f77\n",
      "    define_macros = [('HAVE_CBLAS', None), ('BLAS_SYMBOL_SUFFIX', '64_'), ('HAVE_BLAS_ILP64', None), ('HAVE_LAPACKE', None)]\n",
      "lapack_ilp64_opt_info:\n",
      "    library_dirs = ['D:\\\\a\\\\1\\\\s\\\\numpy\\\\build\\\\openblas64__lapack_info']\n",
      "    libraries = ['openblas64__lapack_info']\n",
      "    language = f77\n",
      "    define_macros = [('HAVE_CBLAS', None), ('BLAS_SYMBOL_SUFFIX', '64_'), ('HAVE_BLAS_ILP64', None), ('HAVE_LAPACKE', None)]\n",
      "Supported SIMD extensions in this NumPy install:\n",
      "    baseline = SSE,SSE2,SSE3\n",
      "    found = SSSE3,SSE41,POPCNT,SSE42,AVX,F16C,FMA3,AVX2\n",
      "    not found = AVX512F,AVX512CD,AVX512_SKX,AVX512_CLX,AVX512_CNL\n",
      "None\n"
     ]
    }
   ],
   "source": [
    "print(\"NumPy Version : \",np.__version__)\n",
    "print(np.show_config())"
   ]
  },
  {
   "cell_type": "markdown",
   "id": "dcefdfce",
   "metadata": {},
   "source": [
    "# 3. Create a null vector of size 10"
   ]
  },
  {
   "cell_type": "code",
   "execution_count": 6,
   "id": "5a67b515",
   "metadata": {},
   "outputs": [
    {
     "data": {
      "text/plain": [
       "array([0., 0., 0., 0., 0., 0., 0., 0., 0., 0.])"
      ]
     },
     "execution_count": 6,
     "metadata": {},
     "output_type": "execute_result"
    }
   ],
   "source": [
    "v = np.zeros(10)\n",
    "v"
   ]
  },
  {
   "cell_type": "markdown",
   "id": "b0c05b4d",
   "metadata": {},
   "source": [
    "# 4. How to find the memory size of any array"
   ]
  },
  {
   "cell_type": "code",
   "execution_count": 32,
   "id": "60458bd3",
   "metadata": {},
   "outputs": [
    {
     "name": "stdout",
     "output_type": "stream",
     "text": [
      "Memory size of numpy array in bytes: 20\n"
     ]
    }
   ],
   "source": [
    "v = np.array([1,5,6,4,3])\n",
    "print(\"Memory size of numpy array in bytes:\",\n",
    "      v.size * v.itemsize)"
   ]
  },
  {
   "cell_type": "markdown",
   "id": "42d1ef13",
   "metadata": {},
   "source": [
    "# 5. Reverse a vector (first element becomes last)"
   ]
  },
  {
   "cell_type": "code",
   "execution_count": 25,
   "id": "0605fd88",
   "metadata": {},
   "outputs": [
    {
     "data": {
      "text/plain": [
       "array([3, 4, 6, 5, 1])"
      ]
     },
     "execution_count": 25,
     "metadata": {},
     "output_type": "execute_result"
    }
   ],
   "source": [
    "v = np.array([1,5,6,4,3])\n",
    "np.flip(v)"
   ]
  },
  {
   "cell_type": "markdown",
   "id": "9869fefe",
   "metadata": {},
   "source": [
    "# 6. Create a 3x3 matrix with values ranging from 0 to 8"
   ]
  },
  {
   "cell_type": "code",
   "execution_count": 7,
   "id": "1af505e6",
   "metadata": {},
   "outputs": [
    {
     "data": {
      "text/plain": [
       "array([[4, 3, 3],\n",
       "       [0, 4, 0],\n",
       "       [6, 4, 5]])"
      ]
     },
     "execution_count": 7,
     "metadata": {},
     "output_type": "execute_result"
    }
   ],
   "source": [
    "matrix = np.random.randint(0,8,9).reshape(3,3)\n",
    "matrix"
   ]
  },
  {
   "cell_type": "markdown",
   "id": "557a3a4e",
   "metadata": {},
   "source": [
    "# 7. Find indices of non-zero elements from [1,2,0,0,4,0] "
   ]
  },
  {
   "cell_type": "code",
   "execution_count": 8,
   "id": "c8c80629",
   "metadata": {},
   "outputs": [
    {
     "data": {
      "text/plain": [
       "(array([0, 1, 4], dtype=int64),)"
      ]
     },
     "execution_count": 8,
     "metadata": {},
     "output_type": "execute_result"
    }
   ],
   "source": [
    "v2 = np.array([1,2,0,0,4,0])\n",
    "np.where(v2 != 0)"
   ]
  },
  {
   "cell_type": "markdown",
   "id": "8cde9d26",
   "metadata": {},
   "source": [
    "# 8. Create a 3x3 identity matrix"
   ]
  },
  {
   "cell_type": "code",
   "execution_count": 10,
   "id": "42fc5932",
   "metadata": {},
   "outputs": [
    {
     "data": {
      "text/plain": [
       "array([[1., 0., 0.],\n",
       "       [0., 1., 0.],\n",
       "       [0., 0., 1.]])"
      ]
     },
     "execution_count": 10,
     "metadata": {},
     "output_type": "execute_result"
    }
   ],
   "source": [
    "e = np.eye(3)\n",
    "e"
   ]
  },
  {
   "cell_type": "markdown",
   "id": "75f4c761",
   "metadata": {},
   "source": [
    "# 9. Create a 3x3x3 array with random values "
   ]
  },
  {
   "cell_type": "code",
   "execution_count": 11,
   "id": "a5db9214",
   "metadata": {},
   "outputs": [
    {
     "data": {
      "text/plain": [
       "array([[[18, 39, 11],\n",
       "        [60, 85, 83],\n",
       "        [81,  6, 76]],\n",
       "\n",
       "       [[ 7, 67, 94],\n",
       "        [88, 32, 33],\n",
       "        [90, 89, 40]],\n",
       "\n",
       "       [[60, 40, 23],\n",
       "        [ 9, 84, 21],\n",
       "        [82, 12, 86]]])"
      ]
     },
     "execution_count": 11,
     "metadata": {},
     "output_type": "execute_result"
    }
   ],
   "source": [
    "a1 = np.random.randint(0,100,27).reshape(3,3,3)\n",
    "a1"
   ]
  },
  {
   "cell_type": "markdown",
   "id": "8a2b7c8e",
   "metadata": {},
   "source": [
    "# 10.Create a 10x10 array with random values and find the minimum and maximum values"
   ]
  },
  {
   "cell_type": "code",
   "execution_count": 13,
   "id": "7712956c",
   "metadata": {},
   "outputs": [
    {
     "name": "stdout",
     "output_type": "stream",
     "text": [
      "[[62 84  1 52 44 72 90 17 78 82]\n",
      " [76 78 44 96 58 65 80 10 98 91]\n",
      " [12  3 68 29  0 64 83 54 55 11]\n",
      " [15 54 34 66 91 17 20 33 78 63]\n",
      " [69 44 65  0 31  9 89 25  0 72]\n",
      " [15  0 62 91 51 18 67 64 51 31]\n",
      " [ 3 33 67  4 51 64 15 57 44 53]\n",
      " [17 59 27  8 24 26 75 41 32 16]\n",
      " [10  7 68 15 81 49 61 95 16 46]\n",
      " [85 16 54 86 17 73 86 46 56 72]]\n",
      "0\n",
      "98\n"
     ]
    }
   ],
   "source": [
    "a2 = np.random.randint(0,100,100).reshape(10,10)\n",
    "print(a2)\n",
    "print(np.min(a2))\n",
    "print(np.max(a2))"
   ]
  },
  {
   "cell_type": "markdown",
   "id": "7cea0ad0",
   "metadata": {},
   "source": [
    "# 11. Create a random vector of size 30 and find the mean value"
   ]
  },
  {
   "cell_type": "code",
   "execution_count": 21,
   "id": "ecc119af",
   "metadata": {},
   "outputs": [
    {
     "name": "stdout",
     "output_type": "stream",
     "text": [
      "[2 1 6 7 7 7 8 4 6 6 9 6 9 0 4 8 8 2 0 5 9 5 8 3 9 9 8 8 4 8]\n"
     ]
    },
    {
     "data": {
      "text/plain": [
       "5.866666666666666"
      ]
     },
     "execution_count": 21,
     "metadata": {},
     "output_type": "execute_result"
    }
   ],
   "source": [
    "a3 = np.random.randint(0,10,30)\n",
    "print(a3)\n",
    "np.mean(a3)"
   ]
  },
  {
   "cell_type": "markdown",
   "id": "7e1502a6",
   "metadata": {},
   "source": [
    "# 12.Create a 5x5 matrix with values 1,2,3,4 just below the diagonal"
   ]
  },
  {
   "cell_type": "code",
   "execution_count": 23,
   "id": "ded3942f",
   "metadata": {},
   "outputs": [
    {
     "data": {
      "text/plain": [
       "array([[2, 0, 0, 0, 0],\n",
       "       [2, 2, 0, 0, 0],\n",
       "       [2, 4, 2, 0, 0],\n",
       "       [4, 1, 3, 2, 0],\n",
       "       [3, 2, 3, 1, 4]])"
      ]
     },
     "execution_count": 23,
     "metadata": {},
     "output_type": "execute_result"
    }
   ],
   "source": [
    "d1 = np.tril(np.random.randint(1,5,25).reshape(5,5))\n",
    "d1"
   ]
  },
  {
   "cell_type": "markdown",
   "id": "4c21e580",
   "metadata": {},
   "source": [
    "# 13.How to find common values between two arrays?"
   ]
  },
  {
   "cell_type": "code",
   "execution_count": 20,
   "id": "0de0f27a",
   "metadata": {},
   "outputs": [
    {
     "data": {
      "text/plain": [
       "array([4, 5])"
      ]
     },
     "execution_count": 20,
     "metadata": {},
     "output_type": "execute_result"
    }
   ],
   "source": [
    "a4 = np.array([1,2,3,4,5])\n",
    "a5 = np.array([4,5,6,7,8])\n",
    "np.intersect1d(a4,a5)"
   ]
  },
  {
   "cell_type": "markdown",
   "id": "9e1798d3",
   "metadata": {},
   "source": [
    "# 14. Create a random vector of size 10 and sort it"
   ]
  },
  {
   "cell_type": "code",
   "execution_count": 17,
   "id": "2ffa3071",
   "metadata": {},
   "outputs": [
    {
     "data": {
      "text/plain": [
       "array([3, 3, 3, 4, 4, 5, 7, 8, 9, 9])"
      ]
     },
     "execution_count": 17,
     "metadata": {},
     "output_type": "execute_result"
    }
   ],
   "source": [
    "r = np.random.randint(0,10,10)\n",
    "np.sort(r)"
   ]
  },
  {
   "cell_type": "code",
   "execution_count": null,
   "id": "3be607ef",
   "metadata": {},
   "outputs": [],
   "source": []
  }
 ],
 "metadata": {
  "kernelspec": {
   "display_name": "Python 3 (ipykernel)",
   "language": "python",
   "name": "python3"
  },
  "language_info": {
   "codemirror_mode": {
    "name": "ipython",
    "version": 3
   },
   "file_extension": ".py",
   "mimetype": "text/x-python",
   "name": "python",
   "nbconvert_exporter": "python",
   "pygments_lexer": "ipython3",
   "version": "3.10.4"
  }
 },
 "nbformat": 4,
 "nbformat_minor": 5
}
