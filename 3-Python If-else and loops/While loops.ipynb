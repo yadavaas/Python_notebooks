{
 "cells": [
  {
   "cell_type": "code",
   "execution_count": 2,
   "id": "64e48916",
   "metadata": {},
   "outputs": [
    {
     "name": "stdout",
     "output_type": "stream",
     "text": [
      "1\n",
      "2\n",
      "3\n",
      "4\n",
      "5\n",
      "6\n",
      "7\n",
      "8\n",
      "9\n",
      "10\n"
     ]
    }
   ],
   "source": [
    "num = 1\n",
    "while num <= 10:\n",
    "    print(num)\n",
    "    num += 1"
   ]
  },
  {
   "cell_type": "code",
   "execution_count": 3,
   "id": "4418f011",
   "metadata": {},
   "outputs": [],
   "source": [
    "result = 0\n",
    "i = 10\n",
    "while i > 1:\n",
    "    result +=100\n",
    "    i -= 1"
   ]
  },
  {
   "cell_type": "code",
   "execution_count": 4,
   "id": "e96bec34",
   "metadata": {},
   "outputs": [
    {
     "data": {
      "text/plain": [
       "900"
      ]
     },
     "execution_count": 4,
     "metadata": {},
     "output_type": "execute_result"
    }
   ],
   "source": [
    "result"
   ]
  },
  {
   "cell_type": "code",
   "execution_count": 7,
   "id": "5e4dbbfc",
   "metadata": {},
   "outputs": [
    {
     "name": "stdout",
     "output_type": "stream",
     "text": [
      "enter the number: 2\n",
      "enter the operator: +\n",
      "enter the number: 3\n",
      "enter the operator: =\n",
      "result is 5\n"
     ]
    }
   ],
   "source": [
    "flag = True\n",
    "result = 0\n",
    "while flag:\n",
    "    num = int(input('enter the number: '))\n",
    "    operator = input('enter the operator: ')\n",
    "    if operator == '+':\n",
    "        result = result + num\n",
    "    elif operator == '=':\n",
    "        flag = False\n",
    "        result = result + num\n",
    "        print(f'result is {result}')\n",
    "    else:\n",
    "        print('wrong operator')\n",
    "        flag = False\n",
    "        "
   ]
  },
  {
   "cell_type": "code",
   "execution_count": 9,
   "id": "4bee1698",
   "metadata": {},
   "outputs": [
    {
     "name": "stdout",
     "output_type": "stream",
     "text": [
      "Enter the number: 15\n",
      "1307674368000\n"
     ]
    }
   ],
   "source": [
    "#find out what program it is\n",
    "num = int(input('Enter the number: '))\n",
    "result = 1\n",
    "i = 1\n",
    "while i <= num:\n",
    "    result *= i\n",
    "    i +=1\n",
    "    \n",
    "print(result)"
   ]
  },
  {
   "cell_type": "markdown",
   "id": "f294166c",
   "metadata": {},
   "source": [
    "#### break statement"
   ]
  },
  {
   "cell_type": "code",
   "execution_count": 10,
   "id": "91646260",
   "metadata": {},
   "outputs": [
    {
     "name": "stdout",
     "output_type": "stream",
     "text": [
      "enter the number: 10\n",
      "enter the operator: +\n",
      "enter the number: 20\n",
      "enter the operator: =\n",
      "result is 30\n"
     ]
    }
   ],
   "source": [
    "result = 0\n",
    "while True:\n",
    "    num = int(input('enter the number: '))\n",
    "    operator = input('enter the operator: ')\n",
    "    if operator == '+':\n",
    "        result = result + num\n",
    "    elif operator == '=':\n",
    "        result = result + num\n",
    "        print(f'result is {result}')\n",
    "        break\n",
    "    else:\n",
    "        print('wrong operator')\n",
    "        break\n",
    "        "
   ]
  },
  {
   "cell_type": "code",
   "execution_count": 11,
   "id": "24c47f67",
   "metadata": {},
   "outputs": [
    {
     "name": "stdout",
     "output_type": "stream",
     "text": [
      "*\n",
      "**\n",
      "***\n",
      "****\n",
      "*****\n",
      "******\n",
      "*******\n",
      "********\n",
      "*********\n",
      "**********\n",
      "*********\n",
      "********\n",
      "*******\n",
      "******\n",
      "*****\n",
      "****\n",
      "***\n",
      "**\n",
      "*\n"
     ]
    }
   ],
   "source": [
    "star = '*'\n",
    "while len(star) < 10:\n",
    "    print(star)\n",
    "    star += '*'    # 'sanju*' = 'sanju' + '*'\n",
    "    \n",
    "while len(star) > 0:\n",
    "    print(star)\n",
    "    star = star[:-1]           #'****' = '*****'[:-1]"
   ]
  },
  {
   "cell_type": "markdown",
   "id": "22389ad5",
   "metadata": {},
   "source": [
    "#### continue statement"
   ]
  },
  {
   "cell_type": "code",
   "execution_count": 12,
   "id": "f41375f1",
   "metadata": {},
   "outputs": [
    {
     "name": "stdout",
     "output_type": "stream",
     "text": [
      "Hello World!\n",
      "1\n",
      "Hello Universe\n",
      "2\n",
      "Hello World!\n",
      "3\n",
      "Hello Universe\n",
      "4\n",
      "Hello World!\n",
      "5\n",
      "Hello Universe\n",
      "6\n",
      "Hello World!\n",
      "7\n",
      "Hello Universe\n",
      "8\n",
      "Hello World!\n",
      "9\n",
      "Hello Universe\n",
      "10\n"
     ]
    }
   ],
   "source": [
    "i = 0\n",
    "while i < 10:\n",
    "    i += 1\n",
    "    if i%2 == 0:\n",
    "        print('Hello Universe')\n",
    "        print(i)\n",
    "        continue\n",
    "    print('Hello World!')\n",
    "    print(i)"
   ]
  },
  {
   "cell_type": "code",
   "execution_count": null,
   "id": "b8c43e81",
   "metadata": {},
   "outputs": [],
   "source": []
  }
 ],
 "metadata": {
  "kernelspec": {
   "display_name": "Python 3 (ipykernel)",
   "language": "python",
   "name": "python3"
  },
  "language_info": {
   "codemirror_mode": {
    "name": "ipython",
    "version": 3
   },
   "file_extension": ".py",
   "mimetype": "text/x-python",
   "name": "python",
   "nbconvert_exporter": "python",
   "pygments_lexer": "ipython3",
   "version": "3.10.4"
  }
 },
 "nbformat": 4,
 "nbformat_minor": 5
}
