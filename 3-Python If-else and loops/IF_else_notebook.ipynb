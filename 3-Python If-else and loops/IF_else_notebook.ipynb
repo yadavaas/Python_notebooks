{
 "cells": [
  {
   "cell_type": "code",
   "execution_count": 1,
   "id": "daddda31",
   "metadata": {},
   "outputs": [
    {
     "data": {
      "text/plain": [
       "True"
      ]
     },
     "execution_count": 1,
     "metadata": {},
     "output_type": "execute_result"
    }
   ],
   "source": [
    "0 < 1"
   ]
  },
  {
   "cell_type": "code",
   "execution_count": 17,
   "id": "a2956064",
   "metadata": {},
   "outputs": [
    {
     "name": "stdout",
     "output_type": "stream",
     "text": [
      "Quotient is not 4\n"
     ]
    }
   ],
   "source": [
    "num = -1\n",
    "\n",
    "if num//4 == 4:\n",
    "    print('Quotient is 4')\n",
    "else:\n",
    "    print('Quotient is not 4')\n",
    "        "
   ]
  },
  {
   "cell_type": "markdown",
   "id": "d4ac263d",
   "metadata": {},
   "source": [
    "#### How to take user input"
   ]
  },
  {
   "cell_type": "code",
   "execution_count": 19,
   "id": "4a7212c7",
   "metadata": {},
   "outputs": [
    {
     "name": "stdout",
     "output_type": "stream",
     "text": [
      "5\n",
      "5\n",
      "<class 'str'>\n"
     ]
    }
   ],
   "source": [
    "num = input()\n",
    "print(num)\n",
    "print(type(num))"
   ]
  },
  {
   "cell_type": "code",
   "execution_count": 21,
   "id": "d8c7569d",
   "metadata": {},
   "outputs": [
    {
     "name": "stdout",
     "output_type": "stream",
     "text": [
      "Enter any number: 48\n"
     ]
    },
    {
     "data": {
      "text/plain": [
       "int"
      ]
     },
     "execution_count": 21,
     "metadata": {},
     "output_type": "execute_result"
    }
   ],
   "source": [
    "num =  int(input('Enter any number: '))\n",
    "type(num)"
   ]
  },
  {
   "cell_type": "markdown",
   "id": "1a0a86bd",
   "metadata": {},
   "source": [
    "#### Programme to find whether a number is even or odd"
   ]
  },
  {
   "cell_type": "code",
   "execution_count": 28,
   "id": "2b639ecf",
   "metadata": {},
   "outputs": [
    {
     "name": "stdout",
     "output_type": "stream",
     "text": [
      "Enter any number: 57\n",
      "57 is ODD\n",
      "hello world\n"
     ]
    }
   ],
   "source": [
    "num =  int(input('Enter any number: '))\n",
    "if num%2 == 0:\n",
    "    print(f'{num} is EVEN')\n",
    "else:\n",
    "    print(f'{num} is ODD')\n",
    "    \n",
    "print('hello world')"
   ]
  },
  {
   "cell_type": "markdown",
   "id": "c0fe3f13",
   "metadata": {},
   "source": [
    "### Using Elif"
   ]
  },
  {
   "cell_type": "code",
   "execution_count": 8,
   "id": "18d5e7fb",
   "metadata": {},
   "outputs": [
    {
     "name": "stdout",
     "output_type": "stream",
     "text": [
      "Enter the name of any day: tuEsday\n",
      "today is tuesday\n"
     ]
    }
   ],
   "source": [
    "today = input(\"Enter the name of any day: \")\n",
    "today = today.lower()\n",
    "# print(today)\n",
    "\n",
    "if today == 'monday':\n",
    "    print(f'today is {today}')\n",
    "elif today == 'tuesday':\n",
    "    print(f'today is {today}')\n",
    "elif today == 'wednesday':\n",
    "    print(f'today is {today}')\n",
    "elif today == 'thrusday':\n",
    "    print(f'today is {today}')\n",
    "elif today == 'friday':\n",
    "    print(f'today is {today}')\n",
    "elif today == 'saturday':\n",
    "    print(f'today is {today}')\n",
    "elif today == 'sunday':\n",
    "    print(f'today is {today}')\n",
    "else:\n",
    "    print('It is not the name of a day')"
   ]
  },
  {
   "cell_type": "code",
   "execution_count": 16,
   "id": "7f827c46",
   "metadata": {},
   "outputs": [
    {
     "name": "stdout",
     "output_type": "stream",
     "text": [
      "47 is not divisible by 3 or 5\n"
     ]
    }
   ],
   "source": [
    "num = 47\n",
    "\n",
    "if num%3 == 0:\n",
    "    print(f'{num} is divisible by 3')\n",
    "if num%5 == 0:\n",
    "    print(f'{num} is divisible by 5')\n",
    "else:\n",
    "    print(f'{num} is not divisible by 3 or 5')"
   ]
  },
  {
   "cell_type": "code",
   "execution_count": 25,
   "id": "72f9e2b7",
   "metadata": {},
   "outputs": [
    {
     "name": "stdout",
     "output_type": "stream",
     "text": [
      "enter any number: 2\n",
      "2 is less than 4\n"
     ]
    }
   ],
   "source": [
    "num = int(input('enter any number: '))\n",
    "if num >= 4:\n",
    "    if num%2 == 0:\n",
    "        print(f'{num} is even')\n",
    "        if num%4 == 0:\n",
    "            print(f'{num} is divisible by 4')\n",
    "        else:\n",
    "            print(f'{num} is not divisible by 4')\n",
    "    else:\n",
    "        print(f'{num} is odd')\n",
    "        if num%5 == 0:\n",
    "            print(f'{num} is divisible by 5')\n",
    "        else:\n",
    "            print(f'{num} is not divisible by 5')\n",
    "else:\n",
    "    print(f'{num} is less than 4')"
   ]
  },
  {
   "cell_type": "markdown",
   "id": "a1d64b65",
   "metadata": {},
   "source": [
    "* Problem: ask the user to input their \"userID\", and if ID is correct ask them \"password\" and if password is also correct, print you have successfully entered in the game. if userID is wrong print \"wrong user userID\" or if password is wrong, print \"wrong Password\". *"
   ]
  },
  {
   "cell_type": "code",
   "execution_count": null,
   "id": "8fb3e06b",
   "metadata": {},
   "outputs": [],
   "source": []
  }
 ],
 "metadata": {
  "kernelspec": {
   "display_name": "Python 3 (ipykernel)",
   "language": "python",
   "name": "python3"
  },
  "language_info": {
   "codemirror_mode": {
    "name": "ipython",
    "version": 3
   },
   "file_extension": ".py",
   "mimetype": "text/x-python",
   "name": "python",
   "nbconvert_exporter": "python",
   "pygments_lexer": "ipython3",
   "version": "3.10.4"
  }
 },
 "nbformat": 4,
 "nbformat_minor": 5
}
