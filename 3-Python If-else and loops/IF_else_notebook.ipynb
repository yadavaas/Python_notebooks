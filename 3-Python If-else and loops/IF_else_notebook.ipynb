{
 "cells": [
  {
   "cell_type": "code",
   "execution_count": 1,
   "id": "daddda31",
   "metadata": {},
   "outputs": [
    {
     "data": {
      "text/plain": [
       "True"
      ]
     },
     "execution_count": 1,
     "metadata": {},
     "output_type": "execute_result"
    }
   ],
   "source": [
    "0 < 1"
   ]
  },
  {
   "cell_type": "code",
   "execution_count": 3,
   "id": "a2956064",
   "metadata": {},
   "outputs": [
    {
     "name": "stdout",
     "output_type": "stream",
     "text": [
      "Quotient is not 4\n"
     ]
    }
   ],
   "source": [
    "num = 15\n",
    "\n",
    "if num//4 == 4:\n",
    "    print('Quotient is 4')\n",
    "else:\n",
    "    print('Quotient is not 4')\n",
    "        "
   ]
  },
  {
   "cell_type": "markdown",
   "id": "d4ac263d",
   "metadata": {},
   "source": [
    "#### How to take user input"
   ]
  },
  {
   "cell_type": "code",
   "execution_count": 4,
   "id": "4a7212c7",
   "metadata": {},
   "outputs": [
    {
     "name": "stdout",
     "output_type": "stream",
     "text": [
      "5\n",
      "5\n",
      "<class 'str'>\n"
     ]
    }
   ],
   "source": [
    "num = input()\n",
    "print(num)\n",
    "print(type(num))"
   ]
  },
  {
   "cell_type": "code",
   "execution_count": 5,
   "id": "d8c7569d",
   "metadata": {},
   "outputs": [
    {
     "name": "stdout",
     "output_type": "stream",
     "text": [
      "Enter any number: 5\n"
     ]
    },
    {
     "data": {
      "text/plain": [
       "int"
      ]
     },
     "execution_count": 5,
     "metadata": {},
     "output_type": "execute_result"
    }
   ],
   "source": [
    "num =  int(input('Enter any number: '))\n",
    "type(num)"
   ]
  },
  {
   "cell_type": "markdown",
   "id": "1a0a86bd",
   "metadata": {},
   "source": [
    "#### Programme to find whether a number is even or odd"
   ]
  },
  {
   "cell_type": "code",
   "execution_count": 11,
   "id": "2b639ecf",
   "metadata": {},
   "outputs": [
    {
     "name": "stdout",
     "output_type": "stream",
     "text": [
      "Enter any number: 18\n",
      "18 is EVEN\n",
      "hello world\n"
     ]
    }
   ],
   "source": [
    "num =  int(input('Enter any number: '))\n",
    "if num%2 == 0:\n",
    "    print(f'{num} is EVEN')\n",
    "else:\n",
    "    print(f'{num} is ODD')\n",
    "    \n",
    "print('hello world')"
   ]
  },
  {
   "cell_type": "markdown",
   "id": "c0fe3f13",
   "metadata": {},
   "source": [
    "### Using Elif"
   ]
  },
  {
   "cell_type": "code",
   "execution_count": 15,
   "id": "18d5e7fb",
   "metadata": {},
   "outputs": [
    {
     "name": "stdout",
     "output_type": "stream",
     "text": [
      "Enter the name of any day: sanju\n",
      "It is not the name of a day\n"
     ]
    }
   ],
   "source": [
    "today = input(\"Enter the name of any day: \")\n",
    "today = today.lower()\n",
    "# print(today)\n",
    "\n",
    "if today == 'monday':\n",
    "    print(f'today is Monday')\n",
    "elif today == 'tuesday':\n",
    "    print(f'today is Tuesday')\n",
    "elif today == 'wednesday':\n",
    "    print(f'today is Wednesday')\n",
    "elif today == 'thrusday':\n",
    "    print(f'today is Thursday')\n",
    "elif today == 'friday':\n",
    "    print(f'today is Friday')\n",
    "elif today == 'saturday':\n",
    "    print(f'today is Saturday')\n",
    "elif today == 'sunday':\n",
    "    print(f'today is Sunday')\n",
    "else:\n",
    "    print('It is not the name of a day')"
   ]
  },
  {
   "cell_type": "code",
   "execution_count": 21,
   "id": "7f827c46",
   "metadata": {},
   "outputs": [
    {
     "name": "stdout",
     "output_type": "stream",
     "text": [
      "9 is divisible by 3\n",
      "9 is not divisible by 3 or 5\n"
     ]
    }
   ],
   "source": [
    "num = 9\n",
    "\n",
    "if num%3 == 0:\n",
    "    print(f'{num} is divisible by 3')\n",
    "if num%5 == 0:\n",
    "    print(f'{num} is divisible by 5')\n",
    "else:\n",
    "    print(f'{num} is not divisible by 3 or 5')"
   ]
  },
  {
   "cell_type": "code",
   "execution_count": 24,
   "id": "72f9e2b7",
   "metadata": {},
   "outputs": [
    {
     "name": "stdout",
     "output_type": "stream",
     "text": [
      "enter any number: 15\n",
      "15 is odd\n",
      "15 is divisible by 5\n"
     ]
    }
   ],
   "source": [
    "num = int(input('enter any number: '))\n",
    "if num >= 4:\n",
    "    if num%2 == 0:\n",
    "        print(f'{num} is even')\n",
    "        if num%4 == 0:\n",
    "            print(f'{num} is divisible by 4')\n",
    "        else:\n",
    "            print(f'{num} is not divisible by 4')\n",
    "    else:\n",
    "        print(f'{num} is odd')\n",
    "        if num%5 == 0:\n",
    "            print(f'{num} is divisible by 5')\n",
    "        else:\n",
    "            print(f'{num} is not divisible by 5')\n",
    "else:\n",
    "    print(f'{num} is less than 4')"
   ]
  },
  {
   "cell_type": "markdown",
   "id": "a1d64b65",
   "metadata": {},
   "source": [
    "* Problem: ask the user to input their \"userID\", and if ID is correct ask them \"password\" and if password is also correct, print you have successfully entered in the game. if userID is wrong print \"wrong user userID\" or if password is wrong, print \"wrong Password\". *"
   ]
  },
  {
   "cell_type": "markdown",
   "id": "ebec5917",
   "metadata": {},
   "source": [
    "Exercise<br/>\n",
    "Write a program in C to calculate and print the electricity bill of a given customer. The customer ID, name, and unit consumed by the user should be captured from the keyboard to display the total amount to be paid to the customer. Go to the editor\n",
    "\n",
    "The charge are as follow :\n",
    "\n",
    "Unit\tCharge/unit\n",
    "upto 199\t@1.20\n",
    "200 and above but less than 400\t@1.50\n",
    "400 and above but less than 600\t@1.80\n",
    "600 and above\t@2.00\n",
    "If bill exceeds Rs. 400 then a surcharge of 15% will be charged and the minimum bill should be of Rs. 100/-\n",
    "\n",
    "Test Data :\n",
    "1001\n",
    "James\n",
    "800\n",
    "Expected Output :\n",
    "Customer IDNO :1001\n",
    "Customer Name :James\n",
    "unit Consumed :800\n",
    "Amount Charges @Rs. 2.00 per unit : 1600.00\n",
    "Surchage Amount : 240.00\n",
    "Net Amount Paid By the Customer : 1840.00"
   ]
  },
  {
   "cell_type": "code",
   "execution_count": null,
   "id": "27a79d32",
   "metadata": {},
   "outputs": [],
   "source": []
  }
 ],
 "metadata": {
  "kernelspec": {
   "display_name": "Python 3 (ipykernel)",
   "language": "python",
   "name": "python3"
  },
  "language_info": {
   "codemirror_mode": {
    "name": "ipython",
    "version": 3
   },
   "file_extension": ".py",
   "mimetype": "text/x-python",
   "name": "python",
   "nbconvert_exporter": "python",
   "pygments_lexer": "ipython3",
   "version": "3.10.4"
  }
 },
 "nbformat": 4,
 "nbformat_minor": 5
}
