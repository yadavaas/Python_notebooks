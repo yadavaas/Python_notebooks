{
 "cells": [
  {
   "cell_type": "markdown",
   "id": "ed8fc588",
   "metadata": {},
   "source": [
    "## For Loop"
   ]
  },
  {
   "cell_type": "code",
   "execution_count": 3,
   "id": "53074fd1",
   "metadata": {},
   "outputs": [
    {
     "name": "stdout",
     "output_type": "stream",
     "text": [
      "3\n",
      "4\n",
      "8\n",
      "10\n",
      "10\n",
      "5\n",
      "4\n"
     ]
    }
   ],
   "source": [
    "a = [1,2,6,8,8,3,2]\n",
    "for i in a:\n",
    "    print(i+2)"
   ]
  },
  {
   "cell_type": "code",
   "execution_count": 21,
   "id": "6723aa4c",
   "metadata": {},
   "outputs": [
    {
     "name": "stdout",
     "output_type": "stream",
     "text": [
      "1\n",
      "4\n",
      "36\n",
      "64\n",
      "64\n",
      "9\n",
      "4\n"
     ]
    }
   ],
   "source": [
    "a = [1,2,6,8,8,3,2]\n",
    "for i in a:\n",
    "    print(i*i)\n",
    "#     print('Hello World!')"
   ]
  },
  {
   "cell_type": "code",
   "execution_count": 23,
   "id": "4957270d",
   "metadata": {},
   "outputs": [
    {
     "name": "stdout",
     "output_type": "stream",
     "text": [
      "monday\n",
      "tuesday\n",
      "wednesday\n"
     ]
    }
   ],
   "source": [
    "b = ('monday', 'tuesday', 'wednesday')\n",
    "\n",
    "for value in b:\n",
    "    print(value)"
   ]
  },
  {
   "cell_type": "code",
   "execution_count": 6,
   "id": "a1335075",
   "metadata": {},
   "outputs": [
    {
     "name": "stdout",
     "output_type": "stream",
     "text": [
      "M\n",
      "o\n",
      "n\n",
      "d\n",
      "a\n",
      "y\n",
      " \n",
      "i\n",
      "s\n",
      " \n",
      "t\n",
      "h\n",
      "e\n",
      " \n",
      "f\n",
      "i\n",
      "r\n",
      "s\n",
      "t\n",
      " \n",
      "d\n",
      "a\n",
      "y\n",
      " \n",
      "o\n",
      "f\n",
      " \n",
      "t\n",
      "h\n",
      "e\n",
      " \n",
      "w\n",
      "e\n",
      "e\n",
      "k\n"
     ]
    }
   ],
   "source": [
    "c = 'Monday is the first day of the week'\n",
    "for ch in c:\n",
    "    print(ch)"
   ]
  },
  {
   "cell_type": "code",
   "execution_count": null,
   "id": "027e6b7d",
   "metadata": {},
   "outputs": [],
   "source": []
  },
  {
   "cell_type": "code",
   "execution_count": 7,
   "id": "dc596aaa",
   "metadata": {},
   "outputs": [
    {
     "name": "stdout",
     "output_type": "stream",
     "text": [
      "1\n",
      "2\n",
      "6\n",
      "8\n",
      "8\n",
      "3\n",
      "2\n"
     ]
    }
   ],
   "source": [
    "a = [1,2,6,8,8,3,2]\n",
    "l = len(a)\n",
    "i = 0\n",
    "while i < l:\n",
    "    print(a[i])\n",
    "    i += 1"
   ]
  },
  {
   "cell_type": "markdown",
   "id": "060c3d54",
   "metadata": {},
   "source": [
    "2\n",
    "4\n",
    "6\n",
    "8\n",
    "10\n",
    "12\n",
    "14\n",
    "16\n",
    "18\n",
    "20"
   ]
  },
  {
   "cell_type": "markdown",
   "id": "1ec8f6d1",
   "metadata": {},
   "source": [
    "### Range"
   ]
  },
  {
   "cell_type": "code",
   "execution_count": 8,
   "id": "a9a4a04e",
   "metadata": {},
   "outputs": [
    {
     "data": {
      "text/plain": [
       "range(0, 7)"
      ]
     },
     "execution_count": 8,
     "metadata": {},
     "output_type": "execute_result"
    }
   ],
   "source": [
    "range(7)"
   ]
  },
  {
   "cell_type": "code",
   "execution_count": 9,
   "id": "4c43efda",
   "metadata": {},
   "outputs": [
    {
     "data": {
      "text/plain": [
       "[0, 1, 2, 3, 4, 5, 6]"
      ]
     },
     "execution_count": 9,
     "metadata": {},
     "output_type": "execute_result"
    }
   ],
   "source": [
    "list(range(7))"
   ]
  },
  {
   "cell_type": "code",
   "execution_count": 21,
   "id": "255b1dc0",
   "metadata": {},
   "outputs": [
    {
     "name": "stdout",
     "output_type": "stream",
     "text": [
      "1\n",
      "2\n",
      "6\n",
      "8\n",
      "8\n",
      "3\n",
      "2\n"
     ]
    }
   ],
   "source": [
    "a = [1,2,6,8,8,3,2]\n",
    "l = len(a)\n",
    "for i in range(l):\n",
    "    print(a[i])"
   ]
  },
  {
   "cell_type": "code",
   "execution_count": 12,
   "id": "d00f849e",
   "metadata": {},
   "outputs": [
    {
     "data": {
      "text/plain": [
       "[2, 3, 4, 5, 6, 7]"
      ]
     },
     "execution_count": 12,
     "metadata": {},
     "output_type": "execute_result"
    }
   ],
   "source": [
    "list(range(2,8))"
   ]
  },
  {
   "cell_type": "code",
   "execution_count": 13,
   "id": "ea411ebc",
   "metadata": {},
   "outputs": [
    {
     "data": {
      "text/plain": [
       "[2, 4, 6]"
      ]
     },
     "execution_count": 13,
     "metadata": {},
     "output_type": "execute_result"
    }
   ],
   "source": [
    "list(range(2,21,2))"
   ]
  },
  {
   "cell_type": "code",
   "execution_count": 17,
   "id": "124f68fe",
   "metadata": {},
   "outputs": [
    {
     "name": "stdout",
     "output_type": "stream",
     "text": [
      "2\n",
      "4\n",
      "6\n",
      "8\n",
      "10\n",
      "12\n",
      "14\n",
      "16\n",
      "18\n",
      "20\n"
     ]
    }
   ],
   "source": [
    "for i in range(2,22,2):\n",
    "    print(i)"
   ]
  },
  {
   "cell_type": "code",
   "execution_count": null,
   "id": "bca30ae3",
   "metadata": {},
   "outputs": [],
   "source": [
    "for i in list(range(2,8,2)):\n",
    "    print(i)"
   ]
  },
  {
   "cell_type": "code",
   "execution_count": 16,
   "id": "38f905fe",
   "metadata": {},
   "outputs": [
    {
     "name": "stdout",
     "output_type": "stream",
     "text": [
      "0\n",
      "  0\n",
      "    0    1    2    3    4    5    6    7    8    9  1\n",
      "    0    1    2    3    4    5    6    7    8    9  2\n",
      "    0    1    2    3    4    5    6    7    8    9  3\n",
      "    0    1    2    3    4    5    6    7    8    9  4\n",
      "    0    1    2    3    4    5    6    7    8    9  5\n",
      "    0    1    2    3    4    5    6    7    8    9  6\n",
      "    0    1    2    3    4    5    6    7    8    9  7\n",
      "    0    1    2    3    4    5    6    7    8    9  8\n",
      "    0    1    2    3    4    5    6    7    8    9  9\n",
      "    0    1    2    3    4    5    6    7    8    91\n",
      "  0\n",
      "    0    1    2    3    4    5    6    7    8    9  1\n",
      "    0    1    2    3    4    5    6    7    8    9  2\n",
      "    0    1    2    3    4    5    6    7    8    9  3\n",
      "    0    1    2    3    4    5    6    7    8    9  4\n",
      "    0    1    2    3    4    5    6    7    8    9  5\n",
      "    0    1    2    3    4    5    6    7    8    9  6\n",
      "    0    1    2    3    4    5    6    7    8    9  7\n",
      "    0    1    2    3    4    5    6    7    8    9  8\n",
      "    0    1    2    3    4    5    6    7    8    9  9\n",
      "    0    1    2    3    4    5    6    7    8    92\n",
      "  0\n",
      "    0    1    2    3    4    5    6    7    8    9  1\n",
      "    0    1    2    3    4    5    6    7    8    9  2\n",
      "    0    1    2    3    4    5    6    7    8    9  3\n",
      "    0    1    2    3    4    5    6    7    8    9  4\n",
      "    0    1    2    3    4    5    6    7    8    9  5\n",
      "    0    1    2    3    4    5    6    7    8    9  6\n",
      "    0    1    2    3    4    5    6    7    8    9  7\n",
      "    0    1    2    3    4    5    6    7    8    9  8\n",
      "    0    1    2    3    4    5    6    7    8    9  9\n",
      "    0    1    2    3    4    5    6    7    8    93\n",
      "  0\n",
      "    0    1    2    3    4    5    6    7    8    9  1\n",
      "    0    1    2    3    4    5    6    7    8    9  2\n",
      "    0    1    2    3    4    5    6    7    8    9  3\n",
      "    0    1    2    3    4    5    6    7    8    9  4\n",
      "    0    1    2    3    4    5    6    7    8    9  5\n",
      "    0    1    2    3    4    5    6    7    8    9  6\n",
      "    0    1    2    3    4    5    6    7    8    9  7\n",
      "    0    1    2    3    4    5    6    7    8    9  8\n",
      "    0    1    2    3    4    5    6    7    8    9  9\n",
      "    0    1    2    3    4    5    6    7    8    94\n",
      "  0\n",
      "    0    1    2    3    4    5    6    7    8    9  1\n",
      "    0    1    2    3    4    5    6    7    8    9  2\n",
      "    0    1    2    3    4    5    6    7    8    9  3\n",
      "    0    1    2    3    4    5    6    7    8    9  4\n",
      "    0    1    2    3    4    5    6    7    8    9  5\n",
      "    0    1    2    3    4    5    6    7    8    9  6\n",
      "    0    1    2    3    4    5    6    7    8    9  7\n",
      "    0    1    2    3    4    5    6    7    8    9  8\n",
      "    0    1    2    3    4    5    6    7    8    9  9\n",
      "    0    1    2    3    4    5    6    7    8    95\n",
      "  0\n",
      "    0    1    2    3    4    5    6    7    8    9  1\n",
      "    0    1    2    3    4    5    6    7    8    9  2\n",
      "    0    1    2    3    4    5    6    7    8    9  3\n",
      "    0    1    2    3    4    5    6    7    8    9  4\n",
      "    0    1    2    3    4    5    6    7    8    9  5\n",
      "    0    1    2    3    4    5    6    7    8    9  6\n",
      "    0    1    2    3    4    5    6    7    8    9  7\n",
      "    0    1    2    3    4    5    6    7    8    9  8\n",
      "    0    1    2    3    4    5    6    7    8    9  9\n",
      "    0    1    2    3    4    5    6    7    8    96\n",
      "  0\n",
      "    0    1    2    3    4    5    6    7    8    9  1\n",
      "    0    1    2    3    4    5    6    7    8    9  2\n",
      "    0    1    2    3    4    5    6    7    8    9  3\n",
      "    0    1    2    3    4    5    6    7    8    9  4\n",
      "    0    1    2    3    4    5    6    7    8    9  5\n",
      "    0    1    2    3    4    5    6    7    8    9  6\n",
      "    0    1    2    3    4    5    6    7    8    9  7\n",
      "    0    1    2    3    4    5    6    7    8    9  8\n",
      "    0    1    2    3    4    5    6    7    8    9  9\n",
      "    0    1    2    3    4    5    6    7    8    97\n",
      "  0\n",
      "    0    1    2    3    4    5    6    7    8    9  1\n",
      "    0    1    2    3    4    5    6    7    8    9  2\n",
      "    0    1    2    3    4    5    6    7    8    9  3\n",
      "    0    1    2    3    4    5    6    7    8    9  4\n",
      "    0    1    2    3    4    5    6    7    8    9  5\n",
      "    0    1    2    3    4    5    6    7    8    9  6\n",
      "    0    1    2    3    4    5    6    7    8    9  7\n",
      "    0    1    2    3    4    5    6    7    8    9  8\n",
      "    0    1    2    3    4    5    6    7    8    9  9\n",
      "    0    1    2    3    4    5    6    7    8    98\n",
      "  0\n",
      "    0    1    2    3    4    5    6    7    8    9  1\n",
      "    0    1    2    3    4    5    6    7    8    9  2\n",
      "    0    1    2    3    4    5    6    7    8    9  3\n",
      "    0    1    2    3    4    5    6    7    8    9  4\n",
      "    0    1    2    3    4    5    6    7    8    9  5\n",
      "    0    1    2    3    4    5    6    7    8    9  6\n",
      "    0    1    2    3    4    5    6    7    8    9  7\n",
      "    0    1    2    3    4    5    6    7    8    9  8\n",
      "    0    1    2    3    4    5    6    7    8    9  9\n",
      "    0    1    2    3    4    5    6    7    8    99\n",
      "  0\n",
      "    0    1    2    3    4    5    6    7    8    9  1\n",
      "    0    1    2    3    4    5    6    7    8    9  2\n",
      "    0    1    2    3    4    5    6    7    8    9  3\n",
      "    0    1    2    3    4    5    6    7    8    9  4\n",
      "    0    1    2    3    4    5    6    7    8    9  5\n",
      "    0    1    2    3    4    5    6    7    8    9  6\n",
      "    0    1    2    3    4    5    6    7    8    9  7\n",
      "    0    1    2    3    4    5    6    7    8    9  8\n",
      "    0    1    2    3    4    5    6    7    8    9  9\n",
      "    0    1    2    3    4    5    6    7    8    91000\n",
      "CPU times: total: 15.6 ms\n",
      "Wall time: 5.72 ms\n"
     ]
    }
   ],
   "source": [
    "%%time\n",
    "count = 0\n",
    "for i in range(10):\n",
    "    print(i)\n",
    "    for f in range(10):\n",
    "        print(' ', f)\n",
    "        for j in range(10):\n",
    "            print('   ', j, end='')\n",
    "            count += 1\n",
    "            \n",
    "print(count)"
   ]
  },
  {
   "cell_type": "code",
   "execution_count": 10,
   "id": "6e2f53da",
   "metadata": {},
   "outputs": [
    {
     "name": "stdout",
     "output_type": "stream",
     "text": [
      "hello-->world-->5\n"
     ]
    }
   ],
   "source": [
    "print('hello', 'world', str(5), sep='-->')\n",
    "# print('world')"
   ]
  },
  {
   "cell_type": "code",
   "execution_count": 14,
   "id": "bbaedaa9",
   "metadata": {},
   "outputs": [
    {
     "name": "stdout",
     "output_type": "stream",
     "text": [
      "5sanjuTrue\n"
     ]
    }
   ],
   "source": [
    "# %%time    '\\n'\n",
    "print(5, end='')\n",
    "print('sanju',end='')\n",
    "print(True)"
   ]
  },
  {
   "cell_type": "code",
   "execution_count": 15,
   "id": "7ea94fe8",
   "metadata": {},
   "outputs": [
    {
     "name": "stdout",
     "output_type": "stream",
     "text": [
      "5\n",
      "sanju\n",
      "\n",
      "True\n"
     ]
    }
   ],
   "source": [
    "print(5)\n",
    "print('sanju\\n')\n",
    "print(True)"
   ]
  },
  {
   "cell_type": "markdown",
   "id": "3a4e8dc5",
   "metadata": {},
   "source": [
    "example"
   ]
  },
  {
   "cell_type": "code",
   "execution_count": 19,
   "id": "d7ca0c8b",
   "metadata": {},
   "outputs": [
    {
     "name": "stdout",
     "output_type": "stream",
     "text": [
      "H--E--L--L--O--"
     ]
    }
   ],
   "source": [
    "s = 'steganograpHy is the practicE of conceaLing a file, message, image, or video within another fiLe, message, image, Or video.'\n",
    "msg = ''\n",
    "# print all the uppercase letters in s, one at a time\n",
    "for char in s:\n",
    "    if char.isupper():\n",
    "        print(char, end='')    "
   ]
  },
  {
   "cell_type": "code",
   "execution_count": 22,
   "id": "1cce1d0f",
   "metadata": {},
   "outputs": [
    {
     "data": {
      "text/plain": [
       "[1, 2, 6, 8, 8, 3, 2]"
      ]
     },
     "execution_count": 22,
     "metadata": {},
     "output_type": "execute_result"
    }
   ],
   "source": [
    "a"
   ]
  },
  {
   "cell_type": "code",
   "execution_count": 23,
   "id": "9e768d7e",
   "metadata": {},
   "outputs": [
    {
     "name": "stdout",
     "output_type": "stream",
     "text": [
      "0-->1\n",
      "1-->2\n",
      "2-->6\n",
      "3-->8\n",
      "4-->8\n",
      "5-->3\n",
      "6-->2\n"
     ]
    }
   ],
   "source": [
    "for idx, value in enumerate(a):\n",
    "    print(idx, value, sep='-->')"
   ]
  },
  {
   "cell_type": "code",
   "execution_count": 24,
   "id": "1f46109d",
   "metadata": {},
   "outputs": [],
   "source": [
    "x = [1,3,4]\n",
    "y = [3,5,1]"
   ]
  },
  {
   "cell_type": "code",
   "execution_count": 25,
   "id": "6a93c7a4",
   "metadata": {},
   "outputs": [
    {
     "name": "stdout",
     "output_type": "stream",
     "text": [
      "i:->1   j:->3\n",
      "i:->3   j:->5\n",
      "i:->4   j:->1\n"
     ]
    }
   ],
   "source": [
    "for i,j in zip(x,y):\n",
    "    print('i:->'+ str(i), 'j:->'+str(j), sep='   ')"
   ]
  },
  {
   "cell_type": "code",
   "execution_count": null,
   "id": "7f86c473",
   "metadata": {},
   "outputs": [],
   "source": [
    "[1,3,4,5,6,4,3,6,12]\n",
    "\n",
    "\n",
    "4\n",
    "6\n",
    "4\n",
    "6\n",
    "12"
   ]
  },
  {
   "cell_type": "code",
   "execution_count": 24,
   "id": "b900f63e",
   "metadata": {},
   "outputs": [
    {
     "name": "stdout",
     "output_type": "stream",
     "text": [
      "4\n",
      "6\n",
      "4\n",
      "6\n",
      "12\n"
     ]
    }
   ],
   "source": [
    "for i in [1,3,4,5,6,4,3,6,12]:\n",
    "    if i%2==0:\n",
    "        print(i)"
   ]
  },
  {
   "cell_type": "code",
   "execution_count": 26,
   "id": "1b5b35ab",
   "metadata": {},
   "outputs": [],
   "source": [
    "result = [4,6,4,6,12]"
   ]
  },
  {
   "cell_type": "code",
   "execution_count": 28,
   "id": "ffbee155",
   "metadata": {},
   "outputs": [
    {
     "data": {
      "text/plain": [
       "[4, 6, 4, 6, 12]"
      ]
     },
     "execution_count": 28,
     "metadata": {},
     "output_type": "execute_result"
    }
   ],
   "source": [
    "result"
   ]
  },
  {
   "cell_type": "code",
   "execution_count": null,
   "id": "5912f30c",
   "metadata": {},
   "outputs": [],
   "source": []
  }
 ],
 "metadata": {
  "kernelspec": {
   "display_name": "Python 3 (ipykernel)",
   "language": "python",
   "name": "python3"
  },
  "language_info": {
   "codemirror_mode": {
    "name": "ipython",
    "version": 3
   },
   "file_extension": ".py",
   "mimetype": "text/x-python",
   "name": "python",
   "nbconvert_exporter": "python",
   "pygments_lexer": "ipython3",
   "version": "3.10.4"
  }
 },
 "nbformat": 4,
 "nbformat_minor": 5
}
